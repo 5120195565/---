{
 "cells": [
  {
   "cell_type": "code",
   "execution_count": 37,
   "metadata": {},
   "outputs": [
    {
     "name": "stdout",
     "output_type": "stream",
     "text": [
      "方程为：y= 0.9939783163480108 * x -0.22023934674249546\n"
     ]
    },
    {
     "data": {
      "image/png": "[encoded data removed]",
      "text/plain": [
       "<Figure size 432x288 with 1 Axes>"
      ]
     },
     "metadata": {
      "needs_background": "light"
     },
     "output_type": "display_data"
    }
   ],
   "source": [
    "# 使用numpy实现线性回归模型\n",
    "# 数据来源于书上65页\n",
    "\n",
    "import numpy as np\n",
    "import matplotlib.pyplot as plt\n",
    "\n",
    "class SimpleLinearRegression2:\n",
    "    def __init__(self):\n",
    "        self.a_ = None\n",
    "        self.b_ = None\n",
    "  \n",
    "    def fit(self, x_train, y_train):\n",
    "        assert x_train.ndim == 1\n",
    "        assert len(x_train) == len(y_train)\n",
    "        x_mean = np.mean(x_train)\n",
    "        y_mean = np.mean(y_train)\n",
    "        \n",
    "        numerator = (x_train - x_mean).dot(y_train - y_mean)\n",
    "        denominator = (x_train - x_mean).dot(x_train - x_mean)\n",
    " \n",
    "        self.a_ = numerator / denominator\n",
    "        self.b_ = y_mean - self.a_ * x_mean\n",
    "        return self\n",
    " \n",
    "    def predict(self, x_predict):\n",
    "        assert x_predict.ndim == 1\n",
    "        assert self.a_ is not None and self.b_ is not None\n",
    "        return np.array([self._predict(x) for x in x_predict])\n",
    " \n",
    "    def _predict(self, x_single):\n",
    "        return self.a_ * x_single + self.b_\n",
    "\n",
    "if __name__ == \"__main__\":\n",
    "    regression2 = SimpleLinearRegression2()\n",
    "    x = np.array([10.95,12.14,13.22,13.87,15.06,16.30,17.01,17.93,19.01,20.01,21.04,22.10,23.17,24.07,25.00,25.95,27.10,28.01,29.06,30.05])\n",
    "    y = np.array([11.18,10.43,12.36,14.15,15.73,16.40,18.86,16.13,18.21,18.37,22.61,19.83,22.67,22.70,25.16,25.55,28.21,28.12,28.32,29.18])\n",
    "\n",
    "    regression2.fit(x, y)\n",
    "    print('方程为：y=', regression2.a_, '* x', regression2.b_)\n",
    "   \n",
    "X=np.linspace(10, 30)\n",
    "Y=a*X+b\n",
    "plt.plot(X,Y,'k-')        \n",
    "plt.scatter(x,y)\n",
    "plt.show( )"
   ]
  },
  {
   "cell_type": "code",
   "execution_count": null,
   "metadata": {},
   "outputs": [],
   "source": []
  }
 ],
 "metadata": {
  "kernelspec": {
   "display_name": "Python 3",
   "language": "python",
   "name": "python3"
  },
  "language_info": {
   "codemirror_mode": {
    "name": "ipython",
    "version": 3
   },
   "file_extension": ".py",
   "mimetype": "text/x-python",
   "name": "python",
   "nbconvert_exporter": "python",
   "pygments_lexer": "ipython3",
   "version": "3.7.3"
  }
 },
 "nbformat": 4,
 "nbformat_minor": 2
}
